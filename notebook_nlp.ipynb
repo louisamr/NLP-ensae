{
 "cells": [
  {
   "cell_type": "markdown",
   "metadata": {
    "colab_type": "text",
    "id": "view-in-github"
   },
   "source": [
    "<a href=\"https://colab.research.google.com/github/remi-vidal/NLP-ensae/blob/main/notebook_nlp.ipynb\" target=\"_parent\"><img src=\"https://colab.research.google.com/assets/colab-badge.svg\" alt=\"Open In Colab\"/></a>"
   ]
  },
  {
   "cell_type": "markdown",
   "metadata": {
    "id": "kHMFuGnXl8KO"
   },
   "source": [
    "\n",
    "\n",
    "---\n",
    "<h1><center><strong><font color=\"chillipepper\">Natural Language Processing - ENSAE 2022</font></strong></center></h1>\n",
    "<h2><center><strong><font color=\"chillipepper\">Poetry Analysis and Generation</font></strong></center></h2>\n",
    "\n",
    "---\n",
    "\n",
    "**Authors :** Louis AMRANI (louis.amrani@ensae.fr) and Rémi VIDAL (remi.vidal@ensae.fr)\n",
    "\n"
   ]
  },
  {
   "cell_type": "markdown",
   "metadata": {
    "id": "0nMi6WMOn4mF"
   },
   "source": [
    "Overview\n",
    "..."
   ]
  },
  {
   "cell_type": "markdown",
   "metadata": {
    "id": "vJiMsE4-oYg2"
   },
   "source": [
    "# Imports and Installation"
   ]
  },
  {
   "cell_type": "code",
   "execution_count": 123,
   "metadata": {
    "id": "N72J-UqsvMZg"
   },
   "outputs": [],
   "source": [
    "import pandas as pd\n",
    "import numpy as np\n",
    "import matplotlib.pyplot as plt\n",
    "\n",
    "url = \"https://raw.githubusercontent.com/remi-vidal/NLP-ensae/main/df_cleaned.csv\"\n",
    "df = pd.read_csv(url, index_col=0)"
   ]
  },
  {
   "cell_type": "code",
   "execution_count": 124,
   "metadata": {
    "colab": {
     "base_uri": "https://localhost:8080/",
     "height": 424
    },
    "id": "pj8Bd9mw2v9H",
    "outputId": "83377bd6-eb57-44d5-fd5f-f78f6076b02f"
   },
   "outputs": [
    {
     "data": {
      "text/html": [
       "<div>\n",
       "<style scoped>\n",
       "    .dataframe tbody tr th:only-of-type {\n",
       "        vertical-align: middle;\n",
       "    }\n",
       "\n",
       "    .dataframe tbody tr th {\n",
       "        vertical-align: top;\n",
       "    }\n",
       "\n",
       "    .dataframe thead th {\n",
       "        text-align: right;\n",
       "    }\n",
       "</style>\n",
       "<table border=\"1\" class=\"dataframe\">\n",
       "  <thead>\n",
       "    <tr style=\"text-align: right;\">\n",
       "      <th></th>\n",
       "      <th>title</th>\n",
       "      <th>author</th>\n",
       "      <th>content</th>\n",
       "      <th>theme</th>\n",
       "      <th>file_title</th>\n",
       "    </tr>\n",
       "  </thead>\n",
       "  <tbody>\n",
       "    <tr>\n",
       "      <th>0</th>\n",
       "      <td>A Lonely Heart In A Thunderstorm</td>\n",
       "      <td>sylviaspencer</td>\n",
       "      <td>A lonely heart sets the table but is she a Mil...</td>\n",
       "      <td>lonely</td>\n",
       "      <td>LonelyPoemsALonelyHeartInAThunderstormPoembysy...</td>\n",
       "    </tr>\n",
       "    <tr>\n",
       "      <th>1</th>\n",
       "      <td>A Lonely Weekend</td>\n",
       "      <td>sylviaspencer</td>\n",
       "      <td>How bright it is on a Friday, when I am away f...</td>\n",
       "      <td>lonely</td>\n",
       "      <td>LonelyPoemsALonelyWeekendPoembysylviaspencer.txt</td>\n",
       "    </tr>\n",
       "    <tr>\n",
       "      <th>2</th>\n",
       "      <td>Lonely In The Dark</td>\n",
       "      <td>nouriblack</td>\n",
       "      <td>I am living in the darkness\\nI feel so scared\\...</td>\n",
       "      <td>lonely</td>\n",
       "      <td>LonelyPoemsLonelyInTheDarkPoembynouriblack.txt</td>\n",
       "    </tr>\n",
       "    <tr>\n",
       "      <th>3</th>\n",
       "      <td>Lonely Burial</td>\n",
       "      <td>Stephen Vincent Benet</td>\n",
       "      <td>There were not many at that lonely place,\\nWhe...</td>\n",
       "      <td>lonely</td>\n",
       "      <td>LonelyPoemsLonelyBurialPoembyStephenVincentBen...</td>\n",
       "    </tr>\n",
       "    <tr>\n",
       "      <th>4</th>\n",
       "      <td>Filmscript For A Lonely Afternoon</td>\n",
       "      <td>Michael Shepherd</td>\n",
       "      <td>walks into deserted playground\\nindifferently,...</td>\n",
       "      <td>lonely</td>\n",
       "      <td>LonelyPoemsFilmscriptForALonelyAfternoonPoemby...</td>\n",
       "    </tr>\n",
       "  </tbody>\n",
       "</table>\n",
       "</div>"
      ],
      "text/plain": [
       "                               title                 author  \\\n",
       "0   A Lonely Heart In A Thunderstorm          sylviaspencer   \n",
       "1                   A Lonely Weekend          sylviaspencer   \n",
       "2                 Lonely In The Dark             nouriblack   \n",
       "3                      Lonely Burial  Stephen Vincent Benet   \n",
       "4  Filmscript For A Lonely Afternoon       Michael Shepherd   \n",
       "\n",
       "                                             content   theme  \\\n",
       "0  A lonely heart sets the table but is she a Mil...  lonely   \n",
       "1  How bright it is on a Friday, when I am away f...  lonely   \n",
       "2  I am living in the darkness\\nI feel so scared\\...  lonely   \n",
       "3  There were not many at that lonely place,\\nWhe...  lonely   \n",
       "4  walks into deserted playground\\nindifferently,...  lonely   \n",
       "\n",
       "                                          file_title  \n",
       "0  LonelyPoemsALonelyHeartInAThunderstormPoembysy...  \n",
       "1   LonelyPoemsALonelyWeekendPoembysylviaspencer.txt  \n",
       "2     LonelyPoemsLonelyInTheDarkPoembynouriblack.txt  \n",
       "3  LonelyPoemsLonelyBurialPoembyStephenVincentBen...  \n",
       "4  LonelyPoemsFilmscriptForALonelyAfternoonPoemby...  "
      ]
     },
     "execution_count": 124,
     "metadata": {},
     "output_type": "execute_result"
    }
   ],
   "source": [
    "df.head()"
   ]
  },
  {
   "cell_type": "markdown",
   "metadata": {},
   "source": [
    "# Data Exploration"
   ]
  },
  {
   "cell_type": "code",
   "execution_count": 125,
   "metadata": {},
   "outputs": [
    {
     "data": {
      "text/plain": [
       "Index(['title', 'author', 'content', 'theme', 'file_title'], dtype='object')"
      ]
     },
     "execution_count": 125,
     "metadata": {},
     "output_type": "execute_result"
    }
   ],
   "source": [
    "df.columns"
   ]
  },
  {
   "cell_type": "code",
   "execution_count": 126,
   "metadata": {},
   "outputs": [
    {
     "data": {
      "text/plain": [
       "14335"
      ]
     },
     "execution_count": 126,
     "metadata": {},
     "output_type": "execute_result"
    }
   ],
   "source": [
    "len(df)"
   ]
  },
  {
   "cell_type": "markdown",
   "metadata": {},
   "source": [
    "### Sanity check"
   ]
  },
  {
   "cell_type": "code",
   "execution_count": 127,
   "metadata": {},
   "outputs": [
    {
     "name": "stdout",
     "output_type": "stream",
     "text": [
      "0\n",
      "1\n",
      "0\n",
      "0\n",
      "0\n"
     ]
    }
   ],
   "source": [
    "#Empty cells\n",
    "for column in df.columns :\n",
    "    print(df[column].isna().sum())"
   ]
  },
  {
   "cell_type": "code",
   "execution_count": 128,
   "metadata": {},
   "outputs": [
    {
     "data": {
      "text/html": [
       "<div>\n",
       "<style scoped>\n",
       "    .dataframe tbody tr th:only-of-type {\n",
       "        vertical-align: middle;\n",
       "    }\n",
       "\n",
       "    .dataframe tbody tr th {\n",
       "        vertical-align: top;\n",
       "    }\n",
       "\n",
       "    .dataframe thead th {\n",
       "        text-align: right;\n",
       "    }\n",
       "</style>\n",
       "<table border=\"1\" class=\"dataframe\">\n",
       "  <thead>\n",
       "    <tr style=\"text-align: right;\">\n",
       "      <th></th>\n",
       "      <th>title</th>\n",
       "      <th>author</th>\n",
       "      <th>content</th>\n",
       "      <th>theme</th>\n",
       "      <th>file_title</th>\n",
       "    </tr>\n",
       "  </thead>\n",
       "  <tbody>\n",
       "    <tr>\n",
       "      <th>12757</th>\n",
       "      <td>F Silent Fire</td>\n",
       "      <td>NaN</td>\n",
       "      <td>Tell me which fight do you fight deep in you\\n...</td>\n",
       "      <td>fire</td>\n",
       "      <td>FirePoemsFSilentFirePoemby.txt</td>\n",
       "    </tr>\n",
       "  </tbody>\n",
       "</table>\n",
       "</div>"
      ],
      "text/plain": [
       "               title author  \\\n",
       "12757  F Silent Fire    NaN   \n",
       "\n",
       "                                                 content theme  \\\n",
       "12757  Tell me which fight do you fight deep in you\\n...  fire   \n",
       "\n",
       "                           file_title  \n",
       "12757  FirePoemsFSilentFirePoemby.txt  "
      ]
     },
     "execution_count": 128,
     "metadata": {},
     "output_type": "execute_result"
    }
   ],
   "source": [
    "# No NaN, except one author. Let's find it :\n",
    "df[df['author'].isna()]"
   ]
  },
  {
   "cell_type": "markdown",
   "metadata": {},
   "source": [
    "$\\longrightarrow$ The author was missing in the file name. Cannot retrieve it on internet (unknown author probably)."
   ]
  },
  {
   "cell_type": "code",
   "execution_count": 129,
   "metadata": {},
   "outputs": [
    {
     "name": "stdout",
     "output_type": "stream",
     "text": [
      "11665\n",
      "13737\n",
      "14335\n"
     ]
    }
   ],
   "source": [
    "# Number of different poems in the database\n",
    "for column in ['title', 'content', 'file_title'] :\n",
    "    print(len(df[column].unique()))"
   ]
  },
  {
   "cell_type": "markdown",
   "metadata": {},
   "source": [
    "$\\longrightarrow$ No duplicate files in our database, but some poems are affected to several themes. For example :"
   ]
  },
  {
   "cell_type": "code",
   "execution_count": 130,
   "metadata": {},
   "outputs": [
    {
     "data": {
      "text/html": [
       "<div>\n",
       "<style scoped>\n",
       "    .dataframe tbody tr th:only-of-type {\n",
       "        vertical-align: middle;\n",
       "    }\n",
       "\n",
       "    .dataframe tbody tr th {\n",
       "        vertical-align: top;\n",
       "    }\n",
       "\n",
       "    .dataframe thead th {\n",
       "        text-align: right;\n",
       "    }\n",
       "</style>\n",
       "<table border=\"1\" class=\"dataframe\">\n",
       "  <thead>\n",
       "    <tr style=\"text-align: right;\">\n",
       "      <th></th>\n",
       "      <th>title</th>\n",
       "      <th>author</th>\n",
       "      <th>content</th>\n",
       "      <th>theme</th>\n",
       "      <th>file_title</th>\n",
       "    </tr>\n",
       "  </thead>\n",
       "  <tbody>\n",
       "    <tr>\n",
       "      <th>147</th>\n",
       "      <td>The Sick Rose</td>\n",
       "      <td>William Blake</td>\n",
       "      <td>O Rose, thou art sick!\\nThe invisible worm\\nTh...</td>\n",
       "      <td>rose</td>\n",
       "      <td>RosePoemsTheSickRosePoembyWilliamBlake.txt</td>\n",
       "    </tr>\n",
       "    <tr>\n",
       "      <th>290</th>\n",
       "      <td>The Sick Rose</td>\n",
       "      <td>William Blake</td>\n",
       "      <td>O Rose, thou art sick!\\nThe invisible worm\\nTh...</td>\n",
       "      <td>sick</td>\n",
       "      <td>SickPoemsTheSickRosePoembyWilliamBlake.txt</td>\n",
       "    </tr>\n",
       "  </tbody>\n",
       "</table>\n",
       "</div>"
      ],
      "text/plain": [
       "             title         author  \\\n",
       "147  The Sick Rose  William Blake   \n",
       "290  The Sick Rose  William Blake   \n",
       "\n",
       "                                               content theme  \\\n",
       "147  O Rose, thou art sick!\\nThe invisible worm\\nTh...  rose   \n",
       "290  O Rose, thou art sick!\\nThe invisible worm\\nTh...  sick   \n",
       "\n",
       "                                     file_title  \n",
       "147  RosePoemsTheSickRosePoembyWilliamBlake.txt  \n",
       "290  SickPoemsTheSickRosePoembyWilliamBlake.txt  "
      ]
     },
     "execution_count": 130,
     "metadata": {},
     "output_type": "execute_result"
    }
   ],
   "source": [
    "df[df['title']== 'The Sick Rose']"
   ]
  },
  {
   "cell_type": "markdown",
   "metadata": {},
   "source": [
    "Moreover, some contents have several titles :"
   ]
  },
  {
   "cell_type": "code",
   "execution_count": 131,
   "metadata": {},
   "outputs": [
    {
     "data": {
      "text/html": [
       "<div>\n",
       "<style scoped>\n",
       "    .dataframe tbody tr th:only-of-type {\n",
       "        vertical-align: middle;\n",
       "    }\n",
       "\n",
       "    .dataframe tbody tr th {\n",
       "        vertical-align: top;\n",
       "    }\n",
       "\n",
       "    .dataframe thead th {\n",
       "        text-align: right;\n",
       "    }\n",
       "</style>\n",
       "<table border=\"1\" class=\"dataframe\">\n",
       "  <thead>\n",
       "    <tr style=\"text-align: right;\">\n",
       "      <th></th>\n",
       "      <th>title</th>\n",
       "      <th>author</th>\n",
       "      <th>content</th>\n",
       "      <th>theme</th>\n",
       "      <th>file_title</th>\n",
       "    </tr>\n",
       "  </thead>\n",
       "  <tbody>\n",
       "    <tr>\n",
       "      <th>842</th>\n",
       "      <td>Personal Identity As</td>\n",
       "      <td>Hasmukh Amathalal</td>\n",
       "      <td>Personal identity\\nWomen always need attention...</td>\n",
       "      <td>identity</td>\n",
       "      <td>IdentityPoemsPersonalIdentityAsPoembyHasmukhAm...</td>\n",
       "    </tr>\n",
       "    <tr>\n",
       "      <th>895</th>\n",
       "      <td>Personal Identity</td>\n",
       "      <td>Hasmukh Amathalal</td>\n",
       "      <td>Personal identity\\nWomen always need attention...</td>\n",
       "      <td>identity</td>\n",
       "      <td>IdentityPoemsPersonalIdentityPoembyHasmukhAmat...</td>\n",
       "    </tr>\n",
       "  </tbody>\n",
       "</table>\n",
       "</div>"
      ],
      "text/plain": [
       "                    title             author  \\\n",
       "842  Personal Identity As  Hasmukh Amathalal   \n",
       "895     Personal Identity  Hasmukh Amathalal   \n",
       "\n",
       "                                               content     theme  \\\n",
       "842  Personal identity\\nWomen always need attention...  identity   \n",
       "895  Personal identity\\nWomen always need attention...  identity   \n",
       "\n",
       "                                            file_title  \n",
       "842  IdentityPoemsPersonalIdentityAsPoembyHasmukhAm...  \n",
       "895  IdentityPoemsPersonalIdentityPoembyHasmukhAmat...  "
      ]
     },
     "execution_count": 131,
     "metadata": {},
     "output_type": "execute_result"
    }
   ],
   "source": [
    "df[df['content'] == (df[df['title'] == 'Personal Identity']['content'].values[0])]"
   ]
  },
  {
   "cell_type": "markdown",
   "metadata": {},
   "source": [
    "### Themes"
   ]
  },
  {
   "cell_type": "code",
   "execution_count": 132,
   "metadata": {
    "colab": {
     "base_uri": "https://localhost:8080/"
    },
    "id": "BhukVs8DAZnj",
    "outputId": "a12561d0-2bc2-4edc-e357-b61697b5bd13"
   },
   "outputs": [
    {
     "name": "stdout",
     "output_type": "stream",
     "text": [
      "There are 144 different themes in the database :\n"
     ]
    },
    {
     "data": {
      "text/plain": [
       "array(['lonely', 'rose', 'sick', 'carpe diem', 'hope', 'home', 'sorrow',\n",
       "       'future', 'identity', 'passion', 'girl', 'butterfly', 'childhood',\n",
       "       'memory', 'poem', 'sea', 'greed', 'baby', 'red', 'rainbow',\n",
       "       'beauty', 'green', 'travel', 'power', 'family', 'evil', 'fear',\n",
       "       'dark', 'dream', 'soldier', 'beautiful', 'city', 'laughter',\n",
       "       'lost', 'spring', 'nature', 'sky', 'work', 'june', 'world',\n",
       "       'racism', 'courage', 'faith', 'chicago', 'justice', 'school',\n",
       "       'warning', 'happy', 'football', 'death', 'wedding', 'friend',\n",
       "       'animal', 'culture', 'truth', 'trust', 'silver', 'heaven',\n",
       "       'poetry', 'birth', 'father', 'january', 'pink', 'swimming',\n",
       "       'paris', 'marriage', 'hero', 'river', 'money', 'son', 'mother',\n",
       "       'frog', 'romance', 'crazy', 'joy', 'success', 'loss', 'daughter',\n",
       "       'sympathy', 'thanks', 'dance', 'funeral', 'lust', 'hair', 'hate',\n",
       "       'cinderella', 'car', 'peace', 'freedom', 'winter', 'song',\n",
       "       'running', 'children', 'sleep', 'destiny', 'water', 'husband',\n",
       "       'sometimes', 'kiss', 'together', 'angel', 'love', 'time',\n",
       "       'teacher', 'rain', 'depression', 'suicide', 'poverty', 'hunting',\n",
       "       'house', 'change', 'life', 'war', 'romantic', 'america', 'beach',\n",
       "       'god', 'funny', 'despair', 'christmas', 'sister', 'murder',\n",
       "       'summer', 'snake', 'innocence', 'happiness', 'moon', 'star',\n",
       "       'fire', 'brother', 'night', 'remember', 'believe', 'anger',\n",
       "       'ocean', 'mirror', 'sun', 'today', 'respect', 'weather', 'food',\n",
       "       'alone', 'graduation', 'music'], dtype=object)"
      ]
     },
     "execution_count": 132,
     "metadata": {},
     "output_type": "execute_result"
    }
   ],
   "source": [
    "print(\"There are {} different themes in the database :\".format(len(df['theme'].unique())))\n",
    "df['theme'].unique()"
   ]
  },
  {
   "cell_type": "code",
   "execution_count": 133,
   "metadata": {},
   "outputs": [
    {
     "data": {
      "text/plain": [
       "friend     100\n",
       "rain       100\n",
       "lust       100\n",
       "brother    100\n",
       "romance    100\n",
       "          ... \n",
       "courage     98\n",
       "anger       98\n",
       "sea         98\n",
       "sister      98\n",
       "chicago     98\n",
       "Name: theme, Length: 144, dtype: int64"
      ]
     },
     "execution_count": 133,
     "metadata": {},
     "output_type": "execute_result"
    }
   ],
   "source": [
    "df['theme'].value_counts()"
   ]
  },
  {
   "cell_type": "code",
   "execution_count": 134,
   "metadata": {},
   "outputs": [
    {
     "data": {
      "text/plain": [
       "100    90\n",
       "99     43\n",
       "98     11\n",
       "Name: theme, dtype: int64"
      ]
     },
     "execution_count": 134,
     "metadata": {},
     "output_type": "execute_result"
    }
   ],
   "source": [
    "df['theme'].value_counts().value_counts()"
   ]
  },
  {
   "cell_type": "markdown",
   "metadata": {},
   "source": [
    "$\\longrightarrow$ The poems are well distributed within the classes."
   ]
  },
  {
   "cell_type": "markdown",
   "metadata": {},
   "source": [
    "### Authors"
   ]
  },
  {
   "cell_type": "code",
   "execution_count": 135,
   "metadata": {},
   "outputs": [
    {
     "name": "stdout",
     "output_type": "stream",
     "text": [
      "There are 4222 different authors in the database.\n"
     ]
    }
   ],
   "source": [
    "print(\"There are {} different authors in the database.\".format(len(df['author'].unique())))"
   ]
  },
  {
   "cell_type": "code",
   "execution_count": 136,
   "metadata": {},
   "outputs": [
    {
     "data": {
      "text/plain": [
       "<AxesSubplot:>"
      ]
     },
     "execution_count": 136,
     "metadata": {},
     "output_type": "execute_result"
    },
    {
     "data": {
      "image/png": "[encoded data removed]",
      "text/plain": [
       "<Figure size 432x288 with 1 Axes>"
      ]
     },
     "metadata": {
      "needs_background": "light"
     },
     "output_type": "display_data"
    }
   ],
   "source": [
    "#Histogram of the number of poems written per author\n",
    "df['author'].value_counts().hist(bins = 50)"
   ]
  },
  {
   "cell_type": "code",
   "execution_count": 137,
   "metadata": {},
   "outputs": [
    {
     "data": {
      "text/plain": [
       "Emily Dickinson                   230\n",
       "johntiongchunghoo                 158\n",
       "Michael Shepherd                  142\n",
       "Francis Duggan                    141\n",
       "Hasmukh Amathalal                 132\n",
       "Dr A Celestine Raj Manohar M D    114\n",
       "Aldo Kraas                        113\n",
       "William Butler Yeats              108\n",
       "David Harris                      107\n",
       "Gajanan Mishra                    106\n",
       "Herbert Nehrlich                  105\n",
       "Lovina Sylvia Chidi                99\n",
       "R I C B A S T A S A                95\n",
       "C J Heck                           89\n",
       "D+¦nall Dempsey                    85\n",
       "Uriah Hamilton                     79\n",
       "Robert William Service             72\n",
       "Walt Whitman                       68\n",
       "Robert Louis Stevenson             62\n",
       "William Blake                      61\n",
       "Name: author, dtype: int64"
      ]
     },
     "execution_count": 137,
     "metadata": {},
     "output_type": "execute_result"
    }
   ],
   "source": [
    "#Let's print the top twenty : \n",
    "df['author'].value_counts()[:20]"
   ]
  },
  {
   "cell_type": "markdown",
   "metadata": {},
   "source": [
    "### Titles and content"
   ]
  },
  {
   "cell_type": "code",
   "execution_count": 138,
   "metadata": {},
   "outputs": [
    {
     "data": {
      "text/plain": [
       "<AxesSubplot:>"
      ]
     },
     "execution_count": 138,
     "metadata": {},
     "output_type": "execute_result"
    },
    {
     "data": {
      "image/png": "[encoded data removed]",
      "text/plain": [
       "<Figure size 432x288 with 1 Axes>"
      ]
     },
     "metadata": {
      "needs_background": "light"
     },
     "output_type": "display_data"
    }
   ],
   "source": [
    "df.title.drop_duplicates().apply(len).hist(bins=40)"
   ]
  },
  {
   "cell_type": "code",
   "execution_count": 139,
   "metadata": {},
   "outputs": [],
   "source": [
    "# let's add some basic information about the text: number of \"words\" (here we only split by a space, a really naive approach)\n",
    "df['title_len'] = df.title.apply(lambda x: len(x.split(' ')) )\n",
    "df['content_len'] = df.content.apply(lambda x: len(x.split(' ')) )"
   ]
  },
  {
   "cell_type": "code",
   "execution_count": 140,
   "metadata": {},
   "outputs": [
    {
     "data": {
      "text/html": [
       "<div>\n",
       "<style scoped>\n",
       "    .dataframe tbody tr th:only-of-type {\n",
       "        vertical-align: middle;\n",
       "    }\n",
       "\n",
       "    .dataframe tbody tr th {\n",
       "        vertical-align: top;\n",
       "    }\n",
       "\n",
       "    .dataframe thead th {\n",
       "        text-align: right;\n",
       "    }\n",
       "</style>\n",
       "<table border=\"1\" class=\"dataframe\">\n",
       "  <thead>\n",
       "    <tr style=\"text-align: right;\">\n",
       "      <th></th>\n",
       "      <th>title</th>\n",
       "      <th>author</th>\n",
       "      <th>content</th>\n",
       "      <th>theme</th>\n",
       "      <th>file_title</th>\n",
       "      <th>title_len</th>\n",
       "      <th>content_len</th>\n",
       "    </tr>\n",
       "  </thead>\n",
       "  <tbody>\n",
       "    <tr>\n",
       "      <th>0</th>\n",
       "      <td>A Lonely Heart In A Thunderstorm</td>\n",
       "      <td>sylviaspencer</td>\n",
       "      <td>A lonely heart sets the table but is she a Mil...</td>\n",
       "      <td>lonely</td>\n",
       "      <td>LonelyPoemsALonelyHeartInAThunderstormPoembysy...</td>\n",
       "      <td>6</td>\n",
       "      <td>177</td>\n",
       "    </tr>\n",
       "    <tr>\n",
       "      <th>1</th>\n",
       "      <td>A Lonely Weekend</td>\n",
       "      <td>sylviaspencer</td>\n",
       "      <td>How bright it is on a Friday, when I am away f...</td>\n",
       "      <td>lonely</td>\n",
       "      <td>LonelyPoemsALonelyWeekendPoembysylviaspencer.txt</td>\n",
       "      <td>3</td>\n",
       "      <td>169</td>\n",
       "    </tr>\n",
       "    <tr>\n",
       "      <th>2</th>\n",
       "      <td>Lonely In The Dark</td>\n",
       "      <td>nouriblack</td>\n",
       "      <td>I am living in the darkness\\nI feel so scared\\...</td>\n",
       "      <td>lonely</td>\n",
       "      <td>LonelyPoemsLonelyInTheDarkPoembynouriblack.txt</td>\n",
       "      <td>4</td>\n",
       "      <td>198</td>\n",
       "    </tr>\n",
       "    <tr>\n",
       "      <th>3</th>\n",
       "      <td>Lonely Burial</td>\n",
       "      <td>Stephen Vincent Benet</td>\n",
       "      <td>There were not many at that lonely place,\\nWhe...</td>\n",
       "      <td>lonely</td>\n",
       "      <td>LonelyPoemsLonelyBurialPoembyStephenVincentBen...</td>\n",
       "      <td>2</td>\n",
       "      <td>100</td>\n",
       "    </tr>\n",
       "    <tr>\n",
       "      <th>4</th>\n",
       "      <td>Filmscript For A Lonely Afternoon</td>\n",
       "      <td>Michael Shepherd</td>\n",
       "      <td>walks into deserted playground\\nindifferently,...</td>\n",
       "      <td>lonely</td>\n",
       "      <td>LonelyPoemsFilmscriptForALonelyAfternoonPoemby...</td>\n",
       "      <td>5</td>\n",
       "      <td>9</td>\n",
       "    </tr>\n",
       "    <tr>\n",
       "      <th>...</th>\n",
       "      <td>...</td>\n",
       "      <td>...</td>\n",
       "      <td>...</td>\n",
       "      <td>...</td>\n",
       "      <td>...</td>\n",
       "      <td>...</td>\n",
       "      <td>...</td>\n",
       "    </tr>\n",
       "    <tr>\n",
       "      <th>14330</th>\n",
       "      <td>War Music</td>\n",
       "      <td>Henry Van Dyke</td>\n",
       "      <td>Break off! Dance no more!\\nDanger is at the do...</td>\n",
       "      <td>music</td>\n",
       "      <td>MusicPoemsWarMusicPoembyHenryVanDyke.txt</td>\n",
       "      <td>2</td>\n",
       "      <td>302</td>\n",
       "    </tr>\n",
       "    <tr>\n",
       "      <th>14331</th>\n",
       "      <td>Music</td>\n",
       "      <td>Rainer Maria Rilke</td>\n",
       "      <td>Take me by the hand;\\nit's so easy for you, An...</td>\n",
       "      <td>music</td>\n",
       "      <td>MusicPoemsMusicPoembyRainerMariaRilke.txt</td>\n",
       "      <td>1</td>\n",
       "      <td>51</td>\n",
       "    </tr>\n",
       "    <tr>\n",
       "      <th>14332</th>\n",
       "      <td>The Sound Of Music</td>\n",
       "      <td>Ravi Sathasivam</td>\n",
       "      <td>The sound of music gives us so much emotions\\n...</td>\n",
       "      <td>music</td>\n",
       "      <td>MusicPoemsTheSoundOfMusicPoembyRaviSathasivam.txt</td>\n",
       "      <td>4</td>\n",
       "      <td>143</td>\n",
       "    </tr>\n",
       "    <tr>\n",
       "      <th>14333</th>\n",
       "      <td>Reed Music</td>\n",
       "      <td>Frederick Kesner</td>\n",
       "      <td>Amber frosted reeds\\nin the summer's wind\\nswa...</td>\n",
       "      <td>music</td>\n",
       "      <td>MusicPoemsReedMusicPoembyFrederickKesner.txt</td>\n",
       "      <td>2</td>\n",
       "      <td>23</td>\n",
       "    </tr>\n",
       "    <tr>\n",
       "      <th>14334</th>\n",
       "      <td>Music</td>\n",
       "      <td>Wilfred Owen</td>\n",
       "      <td>I have been urged by earnest violins\\nAnd drun...</td>\n",
       "      <td>music</td>\n",
       "      <td>MusicPoemsMusicPoembyWilfredOwen.txt</td>\n",
       "      <td>1</td>\n",
       "      <td>104</td>\n",
       "    </tr>\n",
       "  </tbody>\n",
       "</table>\n",
       "<p>14335 rows × 7 columns</p>\n",
       "</div>"
      ],
      "text/plain": [
       "                                   title                 author  \\\n",
       "0       A Lonely Heart In A Thunderstorm          sylviaspencer   \n",
       "1                       A Lonely Weekend          sylviaspencer   \n",
       "2                     Lonely In The Dark             nouriblack   \n",
       "3                          Lonely Burial  Stephen Vincent Benet   \n",
       "4      Filmscript For A Lonely Afternoon       Michael Shepherd   \n",
       "...                                  ...                    ...   \n",
       "14330                          War Music         Henry Van Dyke   \n",
       "14331                              Music     Rainer Maria Rilke   \n",
       "14332                 The Sound Of Music        Ravi Sathasivam   \n",
       "14333                         Reed Music       Frederick Kesner   \n",
       "14334                              Music           Wilfred Owen   \n",
       "\n",
       "                                                 content   theme  \\\n",
       "0      A lonely heart sets the table but is she a Mil...  lonely   \n",
       "1      How bright it is on a Friday, when I am away f...  lonely   \n",
       "2      I am living in the darkness\\nI feel so scared\\...  lonely   \n",
       "3      There were not many at that lonely place,\\nWhe...  lonely   \n",
       "4      walks into deserted playground\\nindifferently,...  lonely   \n",
       "...                                                  ...     ...   \n",
       "14330  Break off! Dance no more!\\nDanger is at the do...   music   \n",
       "14331  Take me by the hand;\\nit's so easy for you, An...   music   \n",
       "14332  The sound of music gives us so much emotions\\n...   music   \n",
       "14333  Amber frosted reeds\\nin the summer's wind\\nswa...   music   \n",
       "14334  I have been urged by earnest violins\\nAnd drun...   music   \n",
       "\n",
       "                                              file_title  title_len  \\\n",
       "0      LonelyPoemsALonelyHeartInAThunderstormPoembysy...          6   \n",
       "1       LonelyPoemsALonelyWeekendPoembysylviaspencer.txt          3   \n",
       "2         LonelyPoemsLonelyInTheDarkPoembynouriblack.txt          4   \n",
       "3      LonelyPoemsLonelyBurialPoembyStephenVincentBen...          2   \n",
       "4      LonelyPoemsFilmscriptForALonelyAfternoonPoemby...          5   \n",
       "...                                                  ...        ...   \n",
       "14330           MusicPoemsWarMusicPoembyHenryVanDyke.txt          2   \n",
       "14331          MusicPoemsMusicPoembyRainerMariaRilke.txt          1   \n",
       "14332  MusicPoemsTheSoundOfMusicPoembyRaviSathasivam.txt          4   \n",
       "14333       MusicPoemsReedMusicPoembyFrederickKesner.txt          2   \n",
       "14334               MusicPoemsMusicPoembyWilfredOwen.txt          1   \n",
       "\n",
       "       content_len  \n",
       "0              177  \n",
       "1              169  \n",
       "2              198  \n",
       "3              100  \n",
       "4                9  \n",
       "...            ...  \n",
       "14330          302  \n",
       "14331           51  \n",
       "14332          143  \n",
       "14333           23  \n",
       "14334          104  \n",
       "\n",
       "[14335 rows x 7 columns]"
      ]
     },
     "execution_count": 140,
     "metadata": {},
     "output_type": "execute_result"
    }
   ],
   "source": [
    "df"
   ]
  },
  {
   "cell_type": "code",
   "execution_count": 141,
   "metadata": {},
   "outputs": [
    {
     "data": {
      "image/png": "[encoded data removed]",
      "text/plain": [
       "<Figure size 432x288 with 1 Axes>"
      ]
     },
     "metadata": {
      "needs_background": "light"
     },
     "output_type": "display_data"
    },
    {
     "data": {
      "image/png": "[encoded data removed]",
      "text/plain": [
       "<Figure size 432x288 with 1 Axes>"
      ]
     },
     "metadata": {
      "needs_background": "light"
     },
     "output_type": "display_data"
    }
   ],
   "source": [
    "for col in ['title_len', 'content_len']:\n",
    "    plt.figure()\n",
    "    plt.title(col)\n",
    "    plt.hist(df[col], bins = 50)\n",
    "    plt.plot()"
   ]
  },
  {
   "cell_type": "markdown",
   "metadata": {},
   "source": [
    "$\\longrightarrow$ Most of the poems have less than 10 words for the title and less than 500 words for the content."
   ]
  },
  {
   "cell_type": "code",
   "execution_count": null,
   "metadata": {},
   "outputs": [],
   "source": []
  }
 ],
 "metadata": {
  "colab": {
   "authorship_tag": "ABX9TyMN8hwnpmU88i5BgS6yIpuu",
   "collapsed_sections": [],
   "include_colab_link": true,
   "name": "notebook_nlp.ipynb",
   "provenance": []
  },
  "kernelspec": {
   "display_name": "Python 3",
   "language": "python",
   "name": "python3"
  },
  "language_info": {
   "codemirror_mode": {
    "name": "ipython",
    "version": 3
   },
   "file_extension": ".py",
   "mimetype": "text/x-python",
   "name": "python",
   "nbconvert_exporter": "python",
   "pygments_lexer": "ipython3",
   "version": "3.8.10"
  }
 },
 "nbformat": 4,
 "nbformat_minor": 1
}
